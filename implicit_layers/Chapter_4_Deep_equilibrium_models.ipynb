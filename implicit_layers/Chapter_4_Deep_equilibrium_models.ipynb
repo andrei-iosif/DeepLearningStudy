{
  "nbformat": 4,
  "nbformat_minor": 0,
  "metadata": {
    "colab": {
      "name": "Chapter 4: Deep equilibrium models.ipynb",
      "provenance": [],
      "collapsed_sections": [],
      "toc_visible": true,
      "include_colab_link": true
    },
    "kernelspec": {
      "name": "python3",
      "display_name": "Python 3"
    },
    "accelerator": "GPU",
    "gpuClass": "standard",
    "widgets": {
      "application/vnd.jupyter.widget-state+json": {
        "745f53193ea24e1fb81e4bc564c05694": {
          "model_module": "@jupyter-widgets/controls",
          "model_name": "HBoxModel",
          "model_module_version": "1.5.0",
          "state": {
            "_dom_classes": [],
            "_model_module": "@jupyter-widgets/controls",
            "_model_module_version": "1.5.0",
            "_model_name": "HBoxModel",
            "_view_count": null,
            "_view_module": "@jupyter-widgets/controls",
            "_view_module_version": "1.5.0",
            "_view_name": "HBoxView",
            "box_style": "",
            "children": [
              "IPY_MODEL_b213f47346fd4ba29adde36ef30c04fc",
              "IPY_MODEL_72b629505dd546a48f2af7ba65689e79",
              "IPY_MODEL_eaea6cdb1d5b4848bd8138be82f4b93a"
            ],
            "layout": "IPY_MODEL_f1f3ed3e4ca64f4c8fa70c0e69b285c8"
          }
        },
        "b213f47346fd4ba29adde36ef30c04fc": {
          "model_module": "@jupyter-widgets/controls",
          "model_name": "HTMLModel",
          "model_module_version": "1.5.0",
          "state": {
            "_dom_classes": [],
            "_model_module": "@jupyter-widgets/controls",
            "_model_module_version": "1.5.0",
            "_model_name": "HTMLModel",
            "_view_count": null,
            "_view_module": "@jupyter-widgets/controls",
            "_view_module_version": "1.5.0",
            "_view_name": "HTMLView",
            "description": "",
            "description_tooltip": null,
            "layout": "IPY_MODEL_05801fcb14c746d9a4e3eb18bf934bd4",
            "placeholder": "​",
            "style": "IPY_MODEL_1ff047f5962246b286c9cba64681f42d",
            "value": "100%"
          }
        },
        "72b629505dd546a48f2af7ba65689e79": {
          "model_module": "@jupyter-widgets/controls",
          "model_name": "FloatProgressModel",
          "model_module_version": "1.5.0",
          "state": {
            "_dom_classes": [],
            "_model_module": "@jupyter-widgets/controls",
            "_model_module_version": "1.5.0",
            "_model_name": "FloatProgressModel",
            "_view_count": null,
            "_view_module": "@jupyter-widgets/controls",
            "_view_module_version": "1.5.0",
            "_view_name": "ProgressView",
            "bar_style": "success",
            "description": "",
            "description_tooltip": null,
            "layout": "IPY_MODEL_36dc85e09f214655832d27f578d23560",
            "max": 170498071,
            "min": 0,
            "orientation": "horizontal",
            "style": "IPY_MODEL_fb880ecebd8141b8b028d32db3eca842",
            "value": 170498071
          }
        },
        "eaea6cdb1d5b4848bd8138be82f4b93a": {
          "model_module": "@jupyter-widgets/controls",
          "model_name": "HTMLModel",
          "model_module_version": "1.5.0",
          "state": {
            "_dom_classes": [],
            "_model_module": "@jupyter-widgets/controls",
            "_model_module_version": "1.5.0",
            "_model_name": "HTMLModel",
            "_view_count": null,
            "_view_module": "@jupyter-widgets/controls",
            "_view_module_version": "1.5.0",
            "_view_name": "HTMLView",
            "description": "",
            "description_tooltip": null,
            "layout": "IPY_MODEL_6a5e0a8d06454bfdabbfef4ab36e3ed3",
            "placeholder": "​",
            "style": "IPY_MODEL_336f2005f9be443f8a0debe9dee966f1",
            "value": " 170498071/170498071 [00:12&lt;00:00, 14396402.61it/s]"
          }
        },
        "f1f3ed3e4ca64f4c8fa70c0e69b285c8": {
          "model_module": "@jupyter-widgets/base",
          "model_name": "LayoutModel",
          "model_module_version": "1.2.0",
          "state": {
            "_model_module": "@jupyter-widgets/base",
            "_model_module_version": "1.2.0",
            "_model_name": "LayoutModel",
            "_view_count": null,
            "_view_module": "@jupyter-widgets/base",
            "_view_module_version": "1.2.0",
            "_view_name": "LayoutView",
            "align_content": null,
            "align_items": null,
            "align_self": null,
            "border": null,
            "bottom": null,
            "display": null,
            "flex": null,
            "flex_flow": null,
            "grid_area": null,
            "grid_auto_columns": null,
            "grid_auto_flow": null,
            "grid_auto_rows": null,
            "grid_column": null,
            "grid_gap": null,
            "grid_row": null,
            "grid_template_areas": null,
            "grid_template_columns": null,
            "grid_template_rows": null,
            "height": null,
            "justify_content": null,
            "justify_items": null,
            "left": null,
            "margin": null,
            "max_height": null,
            "max_width": null,
            "min_height": null,
            "min_width": null,
            "object_fit": null,
            "object_position": null,
            "order": null,
            "overflow": null,
            "overflow_x": null,
            "overflow_y": null,
            "padding": null,
            "right": null,
            "top": null,
            "visibility": null,
            "width": null
          }
        },
        "05801fcb14c746d9a4e3eb18bf934bd4": {
          "model_module": "@jupyter-widgets/base",
          "model_name": "LayoutModel",
          "model_module_version": "1.2.0",
          "state": {
            "_model_module": "@jupyter-widgets/base",
            "_model_module_version": "1.2.0",
            "_model_name": "LayoutModel",
            "_view_count": null,
            "_view_module": "@jupyter-widgets/base",
            "_view_module_version": "1.2.0",
            "_view_name": "LayoutView",
            "align_content": null,
            "align_items": null,
            "align_self": null,
            "border": null,
            "bottom": null,
            "display": null,
            "flex": null,
            "flex_flow": null,
            "grid_area": null,
            "grid_auto_columns": null,
            "grid_auto_flow": null,
            "grid_auto_rows": null,
            "grid_column": null,
            "grid_gap": null,
            "grid_row": null,
            "grid_template_areas": null,
            "grid_template_columns": null,
            "grid_template_rows": null,
            "height": null,
            "justify_content": null,
            "justify_items": null,
            "left": null,
            "margin": null,
            "max_height": null,
            "max_width": null,
            "min_height": null,
            "min_width": null,
            "object_fit": null,
            "object_position": null,
            "order": null,
            "overflow": null,
            "overflow_x": null,
            "overflow_y": null,
            "padding": null,
            "right": null,
            "top": null,
            "visibility": null,
            "width": null
          }
        },
        "1ff047f5962246b286c9cba64681f42d": {
          "model_module": "@jupyter-widgets/controls",
          "model_name": "DescriptionStyleModel",
          "model_module_version": "1.5.0",
          "state": {
            "_model_module": "@jupyter-widgets/controls",
            "_model_module_version": "1.5.0",
            "_model_name": "DescriptionStyleModel",
            "_view_count": null,
            "_view_module": "@jupyter-widgets/base",
            "_view_module_version": "1.2.0",
            "_view_name": "StyleView",
            "description_width": ""
          }
        },
        "36dc85e09f214655832d27f578d23560": {
          "model_module": "@jupyter-widgets/base",
          "model_name": "LayoutModel",
          "model_module_version": "1.2.0",
          "state": {
            "_model_module": "@jupyter-widgets/base",
            "_model_module_version": "1.2.0",
            "_model_name": "LayoutModel",
            "_view_count": null,
            "_view_module": "@jupyter-widgets/base",
            "_view_module_version": "1.2.0",
            "_view_name": "LayoutView",
            "align_content": null,
            "align_items": null,
            "align_self": null,
            "border": null,
            "bottom": null,
            "display": null,
            "flex": null,
            "flex_flow": null,
            "grid_area": null,
            "grid_auto_columns": null,
            "grid_auto_flow": null,
            "grid_auto_rows": null,
            "grid_column": null,
            "grid_gap": null,
            "grid_row": null,
            "grid_template_areas": null,
            "grid_template_columns": null,
            "grid_template_rows": null,
            "height": null,
            "justify_content": null,
            "justify_items": null,
            "left": null,
            "margin": null,
            "max_height": null,
            "max_width": null,
            "min_height": null,
            "min_width": null,
            "object_fit": null,
            "object_position": null,
            "order": null,
            "overflow": null,
            "overflow_x": null,
            "overflow_y": null,
            "padding": null,
            "right": null,
            "top": null,
            "visibility": null,
            "width": null
          }
        },
        "fb880ecebd8141b8b028d32db3eca842": {
          "model_module": "@jupyter-widgets/controls",
          "model_name": "ProgressStyleModel",
          "model_module_version": "1.5.0",
          "state": {
            "_model_module": "@jupyter-widgets/controls",
            "_model_module_version": "1.5.0",
            "_model_name": "ProgressStyleModel",
            "_view_count": null,
            "_view_module": "@jupyter-widgets/base",
            "_view_module_version": "1.2.0",
            "_view_name": "StyleView",
            "bar_color": null,
            "description_width": ""
          }
        },
        "6a5e0a8d06454bfdabbfef4ab36e3ed3": {
          "model_module": "@jupyter-widgets/base",
          "model_name": "LayoutModel",
          "model_module_version": "1.2.0",
          "state": {
            "_model_module": "@jupyter-widgets/base",
            "_model_module_version": "1.2.0",
            "_model_name": "LayoutModel",
            "_view_count": null,
            "_view_module": "@jupyter-widgets/base",
            "_view_module_version": "1.2.0",
            "_view_name": "LayoutView",
            "align_content": null,
            "align_items": null,
            "align_self": null,
            "border": null,
            "bottom": null,
            "display": null,
            "flex": null,
            "flex_flow": null,
            "grid_area": null,
            "grid_auto_columns": null,
            "grid_auto_flow": null,
            "grid_auto_rows": null,
            "grid_column": null,
            "grid_gap": null,
            "grid_row": null,
            "grid_template_areas": null,
            "grid_template_columns": null,
            "grid_template_rows": null,
            "height": null,
            "justify_content": null,
            "justify_items": null,
            "left": null,
            "margin": null,
            "max_height": null,
            "max_width": null,
            "min_height": null,
            "min_width": null,
            "object_fit": null,
            "object_position": null,
            "order": null,
            "overflow": null,
            "overflow_x": null,
            "overflow_y": null,
            "padding": null,
            "right": null,
            "top": null,
            "visibility": null,
            "width": null
          }
        },
        "336f2005f9be443f8a0debe9dee966f1": {
          "model_module": "@jupyter-widgets/controls",
          "model_name": "DescriptionStyleModel",
          "model_module_version": "1.5.0",
          "state": {
            "_model_module": "@jupyter-widgets/controls",
            "_model_module_version": "1.5.0",
            "_model_name": "DescriptionStyleModel",
            "_view_count": null,
            "_view_module": "@jupyter-widgets/base",
            "_view_module_version": "1.2.0",
            "_view_name": "StyleView",
            "description_width": ""
          }
        }
      }
    }
  },
  "cells": [
    {
      "cell_type": "markdown",
      "metadata": {
        "id": "view-in-github",
        "colab_type": "text"
      },
      "source": [
        "<a href=\"https://colab.research.google.com/github/andrei-iosif/DeepLearningStudy/blob/main/implicit_layers/Chapter_4_Deep_equilibrium_models.ipynb\" target=\"_parent\"><img src=\"https://colab.research.google.com/assets/colab-badge.svg\" alt=\"Open In Colab\"/></a>"
      ]
    },
    {
      "cell_type": "markdown",
      "metadata": {
        "id": "9rhTJKjs1sEd"
      },
      "source": [
        "# Chapter 4: Deep equilibrium models\n",
        "\n",
        "This chapter introduces another class of emerging implicit layer models, the Deep Equilibrium (DEQ) Model [[Bai et al.,2019](https://arxiv.org/abs/1909.01377)].  These models have recently demonstrated impressive performance on a variety of large-scale vision and NLP tasks, often showing competetive performance relative to the state of the art (using traditional explicit models) [[Bai et al., 2020](https://arxiv.org/abs/2006.08656)].  However, the core idea of this approach, that of specifying a layer that finds the fixed point of some iterative procedure, dates back to some of the original work in recurrent backpropagation [[Almeida,1987](https://www.semanticscholar.org/paper/A-learning-rule-for-asynchronous-perceptrons-with-a-Almeida/8be3f21ab796bd9811382b560507c1c679fae37f), [Pineda,1987](https://papers.nips.cc/paper/1987/file/735b90b4568125ed6c3f678819b6e058-Paper.pdf)].  DEQ Models, then are largely a \"modern\" variant of these approach, with the conceptual additions of 1) extending these approaches using modern deep architectures, where the goal is to express the _entire_ deep network as an equilibrium computation; and 2) attempting to find the fixed point directly via root finding rather than fixed point iteration alone. \n",
        "\n",
        "This chapter will introduce the intuition behind these DEQ models, discuss some of the theoretial aspects of the approaches, and then present a medium-scale implementation of the methods using a ResNet-like convolutional block, applied to CIFAR10.\n"
      ]
    },
    {
      "cell_type": "markdown",
      "metadata": {
        "id": "giiaF1lmmynP"
      },
      "source": [
        "\n",
        "## Deep networks and fixed point equations\n",
        "\n",
        "As a starting point for introducing the DEQ model, we will begin with a simple deep network formulation, and then use this to motivate the notion of a fixed point iteration layer, like we originally presented in Chapter 1.\n",
        "\n",
        "A typical $k$-layer deep network $h : \\mathcal{X} \\rightarrow \\mathcal{Y}$ is defined by a stack of layers that looks something like the following\n",
        "\\begin{equation}\n",
        "\\begin{split}\n",
        "z_1 &= x \\\\\n",
        "z_{i+1} & = \\sigma(W_i z_i + b_i), \\; i=1,\\ldots,k-1 \\\\\n",
        "h(x) &= W_k z_k + b_k\n",
        "\\end{split}\n",
        "\\end{equation}\n",
        "To be clear, \"real\" deep networks have forms that are quite different, with convolutional layers, residual connections, normalizations, attention layers, etc.  But this is nonetheless instructive to start with a simple network like this.  We could draw this network graphically like the following:\n",
        "<center><img src=\"https://drive.google.com/uc?id=1mAg0_knXQCOc6bkKJ8QOdFy0OZBjWV-N\" width=\"468\"/></center>\n"
      ]
    },
    {
      "cell_type": "markdown",
      "metadata": {
        "id": "vcjUY0dtxPBv"
      },
      "source": [
        "It turns out, perhaps somewhat surprisingly (though we will show below, from a mathematical standpoint, that maybe it's not as surprising as it first sounds), that we can largely replace the different $W_i$ weights at each layer with the _same_ weight $W$ (and same bias $b$), and the deep network still works will in practice.  This notion of weight tied networks (not in the DEQ context, but simply as a strategy for improving network performance in practice), has several examples in the literature [[Bai et al., 2018](https://arxiv.org/abs/1810.06682), [Dehghani et al.,2018](https://arxiv.org/abs/1807.03819), [Lan et al., 2019](https://arxiv.org/abs/1909.11942)].  For a reason that will become clear in a moment, we also want to add an _input injection_ to these layers, which adds a (linear transform) of the input $Ux$ not just into the first layer, but into every layer after that.  In others, we can describe this new model with the equations\n",
        "\\begin{equation}\n",
        "\\begin{split}\n",
        "z_1 &= 0 \\\\\n",
        "z_{i+1} & = \\sigma(W z_i + Ux + b), \\; i=1,\\ldots,k-1 \\\\\n",
        "h(x) & = W_k z_k + b_k\n",
        "\\end{split}\n",
        "\\end{equation}\n",
        "(since the output $h(x)$ can be a different size as the hidden unit, we typically use a separate weight to produce the final output of the function), which can be illustrated graphically as follows:\n",
        "<center><img src=\"https://drive.google.com/uc?id=1zmFZmJs09N_-YbUB_6jlmtE8x3S3lSiI\" width=\"468\"/></center>\n"
      ]
    },
    {
      "cell_type": "markdown",
      "metadata": {
        "id": "6RYWmsDGxRp2"
      },
      "source": [
        "However, now something odd appears.  The key iteration of the deep network is the layer\n",
        "\\begin{equation}\n",
        "z_{i+1} = \\sigma(W z_i + Ux + b).\n",
        "\\end{equation}\n",
        "Importantly, this is the _same_ layer that is being applied repeatedly to the hidden unit.  If we were to repeat this update an infinite number of times, we would essentially be modeling an infinitely deep network of the form above.  But what would happen at this infinite limit?   In fact a few different things could happen: the network output $z_i$, $i \\rightarrow \\infty$ could blow up, diverging to some large value; or, the output could osscilate around different values, either periodically or chaoticallyl; but in practice, what we find is that for most ``typical'' deep layers the valued actually converge to a _fixed point_ or _equilibrium point_, that is, a point $z^\\star$ where the further application of the layer doesn't change the value, i.e.\n",
        "\\begin{equation}\n",
        "z^\\star = \\sigma(W z^\\star + U x + b).\n",
        "\\end{equation}\n",
        "In other words, this infinitely deep model looks exactly like a typical fixed point iteration, where we repeat an update until the value remains unchanged.  The goal of a DEQ model is to directly find this equilibrium point $z^\\star$, without necessarily peforming the forward iteration itself, but by directly attempting to find a root of this equilibrium equation.\n",
        "\n",
        "However, why do we this that such a fixed point does indeed exist? A heuristic argument is that this kind of convergence precisely characterizes the stability of common deep networks: since we have developed network architectures that are already stable for very deep networks (or otherwise we could not train them), we have in a sense already biased our design towards layers that tend towards stable fixed points.  And recent work has investigated classes of DEQs for which such a fixed point is guaranteed to exist and be unique [[Winston and Kolter, 2020](https://arxiv.org/abs/2006.08591)].  For the purposes of this chapter, however, we largely ignore stating anything formal about the guaranteed existence, and treat this kind of stability largely as an empirical issue.\n",
        "\n",
        "Finally, this formulation also indicates why input injection $Ux$ is required in the model.  Because the equilibrium point doesn't depend on any \"initial\" value of $z_1$, if we did not have input injection then the output of the network would not, in fact, depend on its input.  Input injection thus serves as a manner to ensure that the equilibrium point indeed depends on the input to the function, despite having an infinitely deep network."
      ]
    },
    {
      "cell_type": "markdown",
      "metadata": {
        "id": "8Z9d68HCo7hu"
      },
      "source": [
        "## Properties of DEQs: Representational power, and implicit differentiation\n",
        "\n",
        "Having defined the basic model, we will now address some fundamental questions about the representational capacity of DEQ models, and discuss how to apply the implicit function theorem we discussed in previous chapters, to compute gradients of and through these DEQ layers.  For the purposes of this section, we will generalize the form of the DEQ previously stated, and simply refer the DEQ function $f(z,x)$ (i.e., in our previous form $f(z,x) = \\sigma(Wz + Ux + b)$, and we are attempting to find a fixed point\n",
        "\\begin{equation}\n",
        "z^\\star = f(z^\\star,x).\n",
        "\\end{equation}\n"
      ]
    },
    {
      "cell_type": "markdown",
      "metadata": {
        "id": "y3T8AA2VZB7K"
      },
      "source": [
        "### Power of the DEQ representation\n",
        "\n",
        "How powerful is the DEQ representation?  Perhaps somewhat surprisingly (though the fact is quite obvious in retrospect), we can be very precise about the representational power of deep networks built upon this kind of equilibrium computation.  Specifically, **_any deep network_ (of any depth, with any connectivity), can be represeented as a _single layer_ DEQ model.**  Furthermore, this does not involve the kind of exponential parameter blowup common in single layer universal function approximation theorems: with the _same_ number of parameters, a single layer DEQ can represent any network.\n",
        "\n",
        "The proof of this fact is quite simple.  To see the intuition, consider a traditional composition of two functions $y = g_2(g_1(x))$.  We can transform this into a single layer DEQ by simply concatentating all the intermediate terms of this function into a long vector,\n",
        "\\begin{equation}\n",
        "f(z,x) = f\\left (\\left [ \\begin{array}{c}z_1 \\\\ z_2 \\end{array} \\right ], x \\right ) = \\left [ \\begin{array}{c} g_1(x) \\\\ g_2(z_1) \\end{array} \\right ].\n",
        "\\end{equation}\n",
        "Note that at an equilibrium point of this function $z^\\star$, we have that\n",
        "\\begin{equation}\n",
        "z^\\star = f(z^\\star, x) \\; \\Longleftrightarrow \\; z_1^\\star = g_1(x), \\;z_2^\\star = g_2(z_1^\\star) = g_2(g_1(x))\n",
        "\\end{equation}\n",
        "i.e., if we compute an equilibirum point of this function, then the second component $z^\\star_2$ is precisely the output of the original concatenated network.  This logic of course applies to any computation graph, we can concatentate all intermediate products of a computation graph into the vector $z$, and have the function $f$ be the function that applies the \"next\" computation in the graph to each of these elements.\n",
        "\n",
        "While this construction theoretically shows the power of a single DEQ layer, we should emphasize that this is _not_ a construction that we actually use it practice.  Applying e.g., normal fixed point iteration within this model would be much less efficient that simply computing the original network, and we would need to store the entire vector of computations in memory anyway (which is specifically a point we are trying to avoid).  But the constrution hopefully _does_ give some intuition about why computing an equilibrium of a \"single\" DEQ layer is a strictly more powerful than a single explicit layer.\n",
        "\n",
        "\n",
        "\n"
      ]
    },
    {
      "cell_type": "markdown",
      "metadata": {
        "id": "0Peunq8zZDTK"
      },
      "source": [
        "### One (implicit) layer is all you need\n",
        "\n",
        "For those familiar with the deep learning ethos, you may be tempted at this point to think: \"since a single DEQ layer is as powerful as arbitrary stacked 'explicit' layers, could we stack _these_ DEQ layers to obtain something even more powerful?\"  Unfortunately (or perhaps fortunately?) the answer is no.  In fact, is it also the case for DEQs that **a single DEQ layer can model any number of \"stacked\" DEQ layers as well.**  The proof of this fact is very similar to the previous example.  Suppose we had a system that first computed an equilibrium of the function $z_1^\\star = f_1(z_1^\\star,x)$, then next computed an second equilibrium using $z_1^\\star$ as input, i.e., $z_2^\\star = f(z_2^\\star, z_1^\\star)$.  Again, however, it is possible to set this joint problem up as a single equilibrium problem instead, namely computing an equilibrium point of the system\n",
        "\\begin{equation}\n",
        "z^\\star = \\left [ \\begin{array}{c} z^\\star_1 \\\\ z^\\star_2 \\end{array} \\right] = \\left[  \\begin{array}{c} f_1(z^\\star, x) \\\\ f_2(z_2^\\star, z_1^\\star) \\end{array} \\right ] = f(z^\\star, x)\n",
        "\\end{equation}\n",
        "i.e., we can just trivially concatenate the two equilibrium solutions to get the solution of a joint equilibrium problem over two solutions.  Overall, this is indeed a key advantage to the equilibrium modeling approach, that this operation is sufficient to describe both traditional computational graphs (of any depth) _and_ equilibrium models (of any \"depth\") with a single equilibrium layer."
      ]
    },
    {
      "cell_type": "markdown",
      "metadata": {
        "id": "vFtidMztRMTK"
      },
      "source": [
        "### Implicit differentiation of equilibrium layers\n",
        "\n",
        "Finally, we derive the form of implicit backpropagation specific to DEQ models (actually, specific to any fixed point iteration layer more generally, but we will focus largely on the specific form of the DEQ model here).\n",
        "\n",
        "As discussed in previous chapters, we apply implicit differentiation here first considering the fixed point solution\n",
        "\\begin{equation}\n",
        "z^\\star = f(z^\\star, x).\n",
        "\\end{equation}\n",
        "Our goal will be to compute the vector-Jacobian product $\\left (\\frac{\\partial z^\\star(\\cdot)}{\\partial (\\cdot)}\\right)^T y$ for some vector $y$, where $(\\cdot)$ here is a stand-in for any quantity we want to differentiate the fixed point with respect to (i.e, the input $x$, or any parameters of the function $f$, both of which of course will affect the final fixed point $z^\\star$).  Since this vector-Jacobian product is the key aspect to integrating these DEQ layers within backpropagation, such a routine allows us to integrate the DEQ layer within standard automatic differentiation tools.\n",
        "\n",
        "The derivation of the vector-Jacobian product largely mirrors that in previous chapters, but we include the full derivation again here for completeness.  Differentiating both sides of the fixed point solution, we have\n",
        "\\begin{equation}\n",
        "\\frac{\\partial z^\\star(\\cdot)}{\\partial (\\cdot)} = \\frac{\\partial f(z^\\star(\\cdot), x)}{\\partial (\\cdot)} = \\frac{\\partial f(z^\\star, x)}{\\partial z^\\star} \\frac{z^\\star(\\cdot)}{\\partial (\\cdot)} + \\frac{\\partial f(z^\\star, x)}{\\partial (\\cdot)}\n",
        "\\end{equation}\n",
        "where we use $z^\\star(\\cdot)$ to denote the case where $z^\\star$ is being treated as an implicit function of the quantity we're differentiating with respect to (e.g., the parameters of $f$ or the input $x$), and $z^\\star$ alone when we are just refering to the value at equilibrium (e.g., in the last expression).  The second equality in this line simply follows by applying the multivariate chain rule.  Then, rearranging terms, we get an explicit expression for the Jacobian\n",
        "\\begin{equation}\n",
        "\\frac{\\partial z^\\star(\\cdot)}{\\partial (\\cdot)} = \\left ( I - \\frac{\\partial f(z^\\star, x)}{\\partial z^\\star} \\right )^{-1} \\frac{\\partial f(z^\\star, x)}{\\partial (\\cdot)}\n",
        "\\end{equation}\n",
        "where all the right hand side terms can be computed with using \"traditional\" automatic differentiation.\n",
        "\n",
        "Finally, to compute the vector-Jacobian product, we have that\n",
        "\\begin{equation}\n",
        "\\left (\\frac{\\partial z^\\star(\\cdot)}{\\partial (\\cdot)} \\right)^T y = \\left (\\frac{\\partial f(z^\\star, x)}{\\partial (\\cdot)} \\right )^T  \\left ( I - \\frac{\\partial f(z^\\star, x)}{\\partial z^\\star} \\right )^{-T} y.\n",
        "\\end{equation}\n",
        "Let's consider how we compute this quantity practice.  The key term of interest here is the solution of the linear system (which we will abbreviate as $g$)\n",
        "\\begin{equation}\n",
        "g = \\left (I - \\frac{\\partial f(z^\\star, x)}{\\partial z^\\star} \\right )^{-T} y\n",
        "\\end{equation}\n",
        "which will will rearrange as\n",
        "\\begin{equation}\n",
        "g = \\left(\\frac{\\partial f(z^\\star, x)}{\\partial z^\\star} \\right )^T g + y.\n",
        "\\end{equation}\n",
        "The key point here is that this expression is _also_ actually a (linear) fixed point equation, here in the quantity $g$.  Convergence of the naive forward iteration here requires that the Jacobian $\\frac{\\partial f(z^\\star, x)}{\\partial z^\\star}$ be a stable matrix (maximum eigenvalue has magnitude less than one), which is also the condition for local stability of the forward iteration at its convergence point.  But we will not discuss this point too much here and just rely on the fact, as in the forward iteration, that these iterations typically _are_ stable in practice.\n",
        "\n",
        "Thus, the process of deriving the vector-Jacobian product for a DEQ layer can be reduced to two steps.\n",
        "1. Solve the fixed point equation\n",
        "\\begin{equation}\n",
        "g = \\left(\\frac{\\partial f(z^\\star, x)}{\\partial z^\\star} \\right )^T g + y.\n",
        "\\end{equation}\n",
        "either by direct inversion or (more likely) via some iterative procedure that requires only multiplying by $\\left(\\frac{\\partial f(z^\\star, x)}{\\partial z^\\star} \\right )^T$ (which itself can be done via typical automatic differentiation, as this itself is a vector-Jacobian product).\n",
        "2. Compute the final Jacobian vector product as\n",
        "\\begin{equation}\n",
        "\\left (\\frac{\\partial z^\\star(\\cdot)}{\\partial (\\cdot)} \\right)^T y = \\left (\\frac{\\partial f(z^\\star, x)}{\\partial (\\cdot)} \\right )^T g\n",
        "\\end{equation}\n",
        "(where again this product is itself a vector-Jacobian product, computable via normal automatic differentiation).\n",
        "\n"
      ]
    },
    {
      "cell_type": "markdown",
      "metadata": {
        "id": "FYtVRosgnD5I"
      },
      "source": [
        "## Implementation of DEQ Models\n",
        "\n",
        "Having discussed the more algorithmic and theoretical aspects, the remainder of this chapte will discuss how to implement and train a DEQ model, with a completel example that will train a convolutional DEQ model on the CIFAR10 benchmark (to a level of 81.6% accuracy, which is certainly nothing remarkable, but this is for a very small and basic model, with ~200K parameters, and of course more involved DEQ approaches can do substantially better).\n"
      ]
    },
    {
      "cell_type": "markdown",
      "metadata": {
        "id": "44yrygNCFVpv"
      },
      "source": [
        "## Designing the layer $f$\n",
        "\n",
        "Since a DEQ model ultimately finds the equilibrium point of a single function $z^\\star = f(z^\\star, x)$, the choice of $f$ will of course primarily determine the performance of the resulting model.  And while we introduced the original DEQ model in the context of a simple feedforward layer\n",
        "\\begin{equation}\n",
        "f(z,x) = \\sigma(Wz + Ux + b)\n",
        "\\end{equation}\n",
        "in practice we do want to incorporate some additional structure in the layer rather than just this generic feedforward model.  Thus, the \"layer\" of the DEQ model should be considered more as a \"cell\" than truly a single layer in the traditional sense.  And since there has been a great deal of work designing practical cell structures in deep learning models (e.g., residual cells in vison networks, transformer cells in many languagee tasks, etc), a natural choice for the DEQ function $f$ is similarly one of these traditional cells.\n",
        "\n",
        "Additionally, although we write the function $f$ as a function of the actual input the network $x$, in practice we can precompute any transformations applied to the input, i.e., precompute $\\bar{x} = Ux + b$, and then treat the DEQ function as a function $f(z,\\bar{x})$, which eliminates the need to repeatedly apply the same operations to the input.  To keep notation more consistent, thoughm, we'll still just refer to the DEQ function as $f(z,x)$, even if eventually $x$ will be some (typically just linear) function of the input.\n",
        "\n",
        "In this chapter, since we're focusing on a vision task, we'll consider a residual cell as our function.  Specifically, we consider a form like the following:\n",
        "<center><img src=\"https://drive.google.com/uc?id=1dj5ygGGZvx7k3JSp-YWwPND0khXacCyo\" width=\"866\"/></center>\n",
        "which can be written functionally as\n",
        "\\begin{equation}\n",
        "f(z,x) = \\mathrm{norm}(\\mathrm{ReLU}(z + \\mathrm{norm}(x + W_2*(\\mathrm{norm}(\\mathrm{ReLU}(W_1 * z))))))\n",
        "\\end{equation}\n",
        "and where $*$ denotes convolution with the filter $W_1$ or $W_2$ and $\\mathrm{norm}$ represents some normalization operation (we use GroupNorm in our example).\n",
        "\n",
        "One additional oddity of DEQ models is that the weights of these convolutional operators typically need to be initialized with smaller values than layers in traditional networks.  For simplicity we simply initialize all weights in out layer as random samples from $\\mathcal{N}(0,0.01)$, though the preise ideal scaling laws for the variance terms are still not well understood (though a reasonably wide range of this smaller variance initiailzation works well).\n",
        "\n",
        "Putting this all together, we could implement the $f$ function in PyTorch using the following code."
      ]
    },
    {
      "cell_type": "code",
      "metadata": {
        "id": "d_1NzeYnP0rX"
      },
      "source": [
        "import torch\n",
        "import torch.nn as nn\n",
        "import torch.nn.functional as F\n",
        "\n",
        "class ResNetLayer(nn.Module):\n",
        "    def __init__(self, n_channels, n_inner_channels, kernel_size=3, num_groups=8):\n",
        "        super().__init__()\n",
        "        self.conv1 = nn.Conv2d(n_channels, n_inner_channels, kernel_size, padding=kernel_size//2, bias=False)\n",
        "        self.conv2 = nn.Conv2d(n_inner_channels, n_channels, kernel_size, padding=kernel_size//2, bias=False)\n",
        "        self.norm1 = nn.GroupNorm(num_groups, n_inner_channels)\n",
        "        self.norm2 = nn.GroupNorm(num_groups, n_channels)\n",
        "        self.norm3 = nn.GroupNorm(num_groups, n_channels)\n",
        "        self.conv1.weight.data.normal_(0, 0.01)\n",
        "        self.conv2.weight.data.normal_(0, 0.01)\n",
        "        \n",
        "    def forward(self, z, x):\n",
        "        y = self.norm1(F.relu(self.conv1(z)))\n",
        "        return self.norm3(F.relu(z + self.norm2(x + self.conv2(y))))"
      ],
      "execution_count": 1,
      "outputs": []
    },
    {
      "cell_type": "markdown",
      "metadata": {
        "id": "cWYWiB1x6o2p"
      },
      "source": [
        "There is one additional point worth making in this section.  In general, for most DEQ applications we will choose `n_channels` in the above layer to be smaller than `n_inner_channels`.  This is because, for finding the equilibrium point of a DEQ, we want to compute the equilibrium over a relatively ``small'' hidden unit; but to increase the representative power of the network, on the other hand, we want a realtively _large_ number of parameters.  And one way to achieve this is to have the hidden layer \"internal\" to the residual cell be larger than the hidden unit exposed to the DEQ model.  This is akin to the \"bottleneck\" structure that's common in many deep architectures (including the larger ResNets), but with the added insight that we typically want to find the fixed point relative to the small hidden unit, as this makes for a simpler (and more memory-efficient) equilibrium point computation."
      ]
    },
    {
      "cell_type": "markdown",
      "metadata": {
        "id": "GvMQeYmzDHhG"
      },
      "source": [
        "### Implementation of the forward pass\n",
        "\n",
        "The \"forward\" pass of a DEQ layer requires actually computing the fixed point\n",
        "\\begin{equation}\n",
        "z^\\star = f(z^\\star, x)\n",
        "\\end{equation}\n",
        "for the function $f$ defined above, or any other single cell.  And while it would be possible in many cases to do this by simply iterating the forward iteration\n",
        "\\begin{equation}\n",
        "z^{k+1} = f(z^k,x)\n",
        "\\end{equation}\n",
        "in practice there are much more efficient fixed point iteration methods, that improve peformance substantially over the naive forward iteration, typically with some additional memory cost (but still often nothing prohibitive).\n",
        "\n",
        "One of the more common methods for fixed point acceleration is Anderson Acceleration [[Walker and Ni, 2011](https://users.wpi.edu/~walker/Papers/Walker-Ni,SINUM,V49,1715-1735.pdf)].  We will just state the algorithm rather than motivating it fully, but the basic approach here is quite simple: rather than compute $z^{k+1}$ as just $f(z^k,x)$, i.e., the function $f$ applied to the last iteration, update it to be some linear combination of $f$ applied to $m$ previous iterates\n",
        "\\begin{equation}\n",
        "z^{k+1} = \\sum_{i=1}^m \\alpha_i f(z^{k-i+1},x)\n",
        "\\end{equation}\n",
        "where $\\alpha$ is some set of coefficients with $\\sum_{i=1}^m \\alpha_i = 1$ (though some $\\alpha$ terms can also be negative), and where $m$ is a constant that determine the \"memory\" of the update (for the first $m$ iterations, of course only have coefficients on each of the iterates so far).  To compute $\\alpha$, we solve the optimziation problem\n",
        "\\begin{equation}\n",
        "\\DeclareMathOperator*{\\minimize}{minimize}\n",
        "\\minimize_\\alpha, \\;\\; \\|G \\alpha\\|_2^2, \\;\\; \\mbox{subject to} \\;\\; 1^T \\alpha = 1\n",
        "\\end{equation}\n",
        "where\n",
        "\\begin{equation}\n",
        "G = \\left [ \\begin{array}{ccc} f(z^{k},x) - z^k & \\cdots & f(z^{k-m+1},x) - z^{k-m+1} \\end {array} \\right ].\n",
        "\\end{equation}\n",
        "This can be analytically solved by solving the the linear system\n",
        "\\begin{equation}\n",
        "\\left [ \\begin{array} {cc} 0 & 1^T \\\\ 1 & G^T G \\end{array} \\right ] \\left [ \\begin{array}{c} \\nu \\\\ \\alpha \\end{array} \\right ] = \\left [ \\begin{array}{c} 1 \\\\  0 \\end{array} \\right ].\n",
        "\\end{equation}\n",
        "We can also further extend the iterations to either a generalized udpate\n",
        "\\begin{equation}\n",
        "z^{k+1} = (1-\\beta) \\sum_{i=1}^m \\alpha_i z^{k-1+1} + \\beta \\sum_{i=1}^m \\alpha_i f(z^{k-i+1},x)\n",
        "\\end{equation}\n",
        "for some $\\beta > 0$.  When $\\beta < 1$, this corresponds to a \"damped\" version of the Anderson udpate, but when $\\beta > 1$, this corresponds to an \"overprojected\" version (i.e., is has a _negative_ weight on the previous iterates), but which may actually converge faster.\n",
        "\n",
        "Because we typically handle batches of samples at once, we typically need to run Anderson acceleration in a \"batched\" version to compute this the fixed point separately for example example in a batch.  The function can be implemented in PyTorch with the following code (it's not critical to understand this code fully, but it simply implements the explicit solve above in order to find a solution to $\\alpha$ for all examples in the batch)."
      ]
    },
    {
      "cell_type": "code",
      "metadata": {
        "id": "6WF-dJXJUtre"
      },
      "source": [
        "def anderson(f, x0, m=5, lam=1e-4, max_iter=50, tol=1e-2, beta = 1.0):\n",
        "    \"\"\" Anderson acceleration for fixed point iteration. \"\"\"\n",
        "    bsz, d, H, W = x0.shape\n",
        "    X = torch.zeros(bsz, m, d*H*W, dtype=x0.dtype, device=x0.device)\n",
        "    F = torch.zeros(bsz, m, d*H*W, dtype=x0.dtype, device=x0.device)\n",
        "    X[:,0], F[:,0] = x0.view(bsz, -1), f(x0).view(bsz, -1)\n",
        "    X[:,1], F[:,1] = F[:,0], f(F[:,0].view_as(x0)).view(bsz, -1)\n",
        "    \n",
        "    H = torch.zeros(bsz, m+1, m+1, dtype=x0.dtype, device=x0.device)\n",
        "    H[:,0,1:] = H[:,1:,0] = 1\n",
        "    y = torch.zeros(bsz, m+1, 1, dtype=x0.dtype, device=x0.device)\n",
        "    y[:,0] = 1\n",
        "    \n",
        "    res = []\n",
        "    for k in range(2, max_iter):\n",
        "        n = min(k, m)\n",
        "        G = F[:,:n]-X[:,:n]\n",
        "        H[:,1:n+1,1:n+1] = torch.bmm(G,G.transpose(1,2)) + lam*torch.eye(n, dtype=x0.dtype,device=x0.device)[None]\n",
        "        alpha = torch.linalg.solve(H[:,:n+1,:n+1], y[:,:n+1],)[:, 1:n+1, 0]   # (bsz x n)\n",
        "        \n",
        "        X[:,k%m] = beta * (alpha[:,None] @ F[:,:n])[:,0] + (1-beta)*(alpha[:,None] @ X[:,:n])[:,0]\n",
        "        F[:,k%m] = f(X[:,k%m].view_as(x0)).view(bsz, -1)\n",
        "        res.append((F[:,k%m] - X[:,k%m]).norm().item()/(1e-5 + F[:,k%m].norm().item()))\n",
        "        if (res[-1] < tol):\n",
        "            break\n",
        "    return X[:,k%m].view_as(x0), res"
      ],
      "execution_count": 4,
      "outputs": []
    },
    {
      "cell_type": "markdown",
      "metadata": {
        "id": "7LuFvh1oW-dA"
      },
      "source": [
        "Let's see what this looks like in practice.  We can try to evaluate the fixed point iteration for some random input $x$, plotting the average (relative) residual over all the batches\n",
        "\\begin{equation}\n",
        "\\frac{\\|f(z^k,x) - z^k\\|_2}{\\|f(z^k,x)\\|_2}\n",
        "\\end{equation}\n",
        "for each iteration."
      ]
    },
    {
      "cell_type": "code",
      "metadata": {
        "id": "baqmgbUEYb4l",
        "colab": {
          "base_uri": "https://localhost:8080/",
          "height": 296
        },
        "outputId": "170b4fd9-db1f-43e3-ea87-7e102375aa6d"
      },
      "source": [
        "import matplotlib.pyplot as plt\n",
        "\n",
        "X = torch.randn(10,64,32,32)\n",
        "f = ResNetLayer(64,128)\n",
        "Z, res = anderson(lambda Z : f(Z,X), torch.zeros_like(X), tol=1e-4, beta=1.0)\n",
        "plt.semilogy(res)\n",
        "plt.xlabel(\"Iteration\")\n",
        "plt.ylabel(\"Relative residual\")"
      ],
      "execution_count": 5,
      "outputs": [
        {
          "output_type": "execute_result",
          "data": {
            "text/plain": [
              "Text(0, 0.5, 'Relative residual')"
            ]
          },
          "metadata": {},
          "execution_count": 5
        },
        {
          "output_type": "display_data",
          "data": {
            "text/plain": [
              "<Figure size 432x288 with 1 Axes>"
            ],
            "image/png": "[encoded data removed]"
          },
          "metadata": {
            "needs_background": "light"
          }
        }
      ]
    },
    {
      "cell_type": "markdown",
      "metadata": {
        "id": "BedlLiKBZX5w"
      },
      "source": [
        "We can compare this to the naive forward iteration, to see some of the advantages of Anderson acceleration.  Beacuse this systemm is relatively stable, the difference (2x the iterations) is not _that_ substantial, but as training of the full DEQ model progresses, the differences between Anderson acceleration and simple forward interation becomes even more stark."
      ]
    },
    {
      "cell_type": "code",
      "metadata": {
        "id": "jRc2DG66axPe",
        "colab": {
          "base_uri": "https://localhost:8080/",
          "height": 296
        },
        "outputId": "b739c0a2-6aec-49ed-ab95-27058bccb944"
      },
      "source": [
        "def forward_iteration(f, x0, max_iter=50, tol=1e-2):\n",
        "    f0 = f(x0)\n",
        "    res = []\n",
        "    for k in range(max_iter):\n",
        "        x = f0\n",
        "        f0 = f(x)\n",
        "        res.append((f0 - x).norm().item() / (1e-5 + f0.norm().item()))\n",
        "        if (res[-1] < tol):\n",
        "            break\n",
        "    return f0, res\n",
        "\n",
        "Z, res = forward_iteration(lambda Z : f(Z,X), torch.zeros_like(X), tol=1e-4)\n",
        "plt.semilogy(res)\n",
        "plt.xlabel(\"Iteration\")\n",
        "plt.ylabel(\"Relative residual\")"
      ],
      "execution_count": 6,
      "outputs": [
        {
          "output_type": "execute_result",
          "data": {
            "text/plain": [
              "Text(0, 0.5, 'Relative residual')"
            ]
          },
          "metadata": {},
          "execution_count": 6
        },
        {
          "output_type": "display_data",
          "data": {
            "text/plain": [
              "<Figure size 432x288 with 1 Axes>"
            ],
            "image/png": "[encoded data removed]"
          },
          "metadata": {
            "needs_background": "light"
          }
        }
      ]
    },
    {
      "cell_type": "markdown",
      "metadata": {
        "id": "TfCImNOBbvsr"
      },
      "source": [
        "### Implementing the backward pass\n",
        "\n",
        "The backward pass, as described above, requires that we first find a solution to the linear fixed point equation\n",
        "\\begin{equation}\n",
        "g = \\left(\\frac{\\partial f(z^\\star, x)}{\\partial z^\\star} \\right )^T g + y.\n",
        "\\end{equation}\n",
        "and then that we compute the final vector Jacobian product as\n",
        "\\begin{equation}\n",
        "\\left (\\frac{\\partial z^\\star(\\cdot)}{\\partial (\\cdot)} \\right)^T y = \\left (\\frac{\\partial f(z^\\star, x)}{\\partial (\\cdot)} \\right )^T g.\n",
        "\\end{equation}\n",
        "The two vector-Jacobian product in each of these terms $\\left(\\frac{\\partial f(z^\\star, x)}{\\partial z^\\star} \\right )^T g$ and $\\left (\\frac{\\partial f(z^\\star, x)}{\\partial (\\cdot)} \\right )^T g$ are both \"standard\" vector-Jacobian products that can be computed using existing automatic differentation tools.\n",
        "\n",
        "This means that implementing a generic DEQ layer, capable of using any function $f$, inside a library like PyTorch is actually very straightforward.  All of it can be done within a standard `nn.Module` class (rather than e.g., an explicit `autograd.Function` class that requires separate implementation of forward/backward passes), exploiting the built-in automatic differentiation tools to compute all needed derivatives.  It essentially involves three steps, which we described in a less generic (and less elegant, since we computed the Jacobian explicitly) form in Chapter 1, but which we now highlight again.\n",
        "1. Compute the fixed point $z^\\star = f(z^\\star,x)$ (using e.g. Anderson acceleration), _outside_ the autodiff tape (in PyTorch, this means running it inside of a `with torch.no_grad():` block).\n",
        "2. Re-engage the autodiff tape by calling $z := f(z,x)$ once, at the equilibrium point.  This engages the existing automatic differentiation library to compute the $\\left (\\frac{\\partial f(z^\\star, x)}{\\partial (\\cdot)} \\right )^T$ multiplication.\n",
        "3. Add a backwards hook that takes the incoming backward gradient $y$ and solve the fixed point equation $g = \\left(\\frac{\\partial f(z^\\star, x)}{\\partial z^\\star} \\right )^T g + y$ again using, e.g. Anderson Acceleration.\n",
        "In total, the code is quite short, and looks like the following."
      ]
    },
    {
      "cell_type": "code",
      "metadata": {
        "id": "D52dShpToZCP"
      },
      "source": [
        "import torch.autograd as autograd\n",
        "\n",
        "class DEQFixedPoint(nn.Module):\n",
        "    def __init__(self, f, solver, **kwargs):\n",
        "        super().__init__()\n",
        "        self.f = f\n",
        "        self.solver = solver\n",
        "        self.kwargs = kwargs\n",
        "        \n",
        "    def forward(self, x):\n",
        "        # compute forward pass and re-engage autograd tape\n",
        "        with torch.no_grad():\n",
        "            z, self.forward_res = self.solver(lambda z : self.f(z, x), torch.zeros_like(x), **self.kwargs)\n",
        "        z = self.f(z,x)\n",
        "        \n",
        "        # set up Jacobian vector product (without additional forward calls)\n",
        "        z0 = z.clone().detach().requires_grad_()\n",
        "        f0 = self.f(z0,x)\n",
        "        def backward_hook(grad):\n",
        "            g, self.backward_res = self.solver(lambda y : autograd.grad(f0, z0, y, retain_graph=True)[0] + grad,\n",
        "                                               grad, **self.kwargs)\n",
        "            return g\n",
        "                \n",
        "        z.register_hook(backward_hook)\n",
        "        return z"
      ],
      "execution_count": 7,
      "outputs": []
    },
    {
      "cell_type": "markdown",
      "metadata": {
        "id": "Q0wIL9htrAUp"
      },
      "source": [
        "For those familiar with PyTorch, you may note that we prefer to call `autograd.grad` directly (rather than the higher order functions `autograd.functions.vjp`, etc) because it lets us repeatedly multiply by this Jacobian without re-running the forward pass.  One minor downside of the simplicity here is that it does require two additional calls to $f$ than are strictly necessary: once to re-engage the gradient tape as described in Step 2 above, and once to set up the `f0` variable (which needs to be separate from `z`).  However, given that we typically need to call $f$ multiple times for the forward solve itself, this adds relatively little computational overhead.\n"
      ]
    },
    {
      "cell_type": "markdown",
      "metadata": {
        "id": "kg2UmSW1x1R3"
      },
      "source": [
        "To verify that this layer is computing gradients correctly, we can use the `gradcheck` function to verify that the analytic gradients match with numerically computed gradients.  Note that owning to our use of `nn.Module` in this somewhat non-standard manner (as opposed to an `autograd.Function` class), this will only test gradients with respect to the input to the layer $x$ (and not with respect to the parameters), though we could also verify those by setting up a separate function if needed.  We should also emphasize that the function above will _not_ work with double backprop, though again this can be adressed with some additional effect if needed."
      ]
    },
    {
      "cell_type": "code",
      "metadata": {
        "id": "oejONbx1zPXM",
        "colab": {
          "base_uri": "https://localhost:8080/"
        },
        "outputId": "a8f5002d-59f6-41c0-ae37-dab553e46f71"
      },
      "source": [
        "from torch.autograd import gradcheck\n",
        "# run a very small network with double precision, iterating to high precision\n",
        "f = ResNetLayer(2,2, num_groups=2).double()\n",
        "deq = DEQFixedPoint(f, anderson, tol=1e-10, max_iter=500).double()\n",
        "gradcheck(deq, torch.randn(1,2,3,3).double().requires_grad_(), check_undefined_grad=False)"
      ],
      "execution_count": 8,
      "outputs": [
        {
          "output_type": "execute_result",
          "data": {
            "text/plain": [
              "True"
            ]
          },
          "metadata": {},
          "execution_count": 8
        }
      ]
    },
    {
      "cell_type": "markdown",
      "metadata": {
        "id": "N1L9kdIWx0ti"
      },
      "source": [
        "Finally, let's take a look at using the layer above to compute a forward and backward pass, and look at the relative residuals for both the forward and backward iterations."
      ]
    },
    {
      "cell_type": "code",
      "metadata": {
        "id": "d2_tGE0nuUnl"
      },
      "source": [
        "f = ResNetLayer(64,128)\n",
        "deq = DEQFixedPoint(f, anderson, tol=1e-4, max_iter=100, beta=2.0)\n",
        "X = torch.randn(10,64,32,32)\n",
        "out = deq(X)\n",
        "(out*torch.randn_like(out)).sum().backward()"
      ],
      "execution_count": 9,
      "outputs": []
    },
    {
      "cell_type": "code",
      "metadata": {
        "id": "aw8rBUCIvGzB",
        "colab": {
          "base_uri": "https://localhost:8080/",
          "height": 296
        },
        "outputId": "98f6a2d1-1c51-4f90-8c95-b2612385afac"
      },
      "source": [
        "plt.semilogy(deq.forward_res)\n",
        "plt.semilogy(deq.backward_res)\n",
        "plt.legend(['Forward', 'Backward'])\n",
        "plt.xlabel(\"Iteration\")\n",
        "plt.ylabel(\"Residual\")"
      ],
      "execution_count": 10,
      "outputs": [
        {
          "output_type": "execute_result",
          "data": {
            "text/plain": [
              "Text(0, 0.5, 'Residual')"
            ]
          },
          "metadata": {},
          "execution_count": 10
        },
        {
          "output_type": "display_data",
          "data": {
            "text/plain": [
              "<Figure size 432x288 with 1 Axes>"
            ],
            "image/png": "[encoded data removed]"
          },
          "metadata": {
            "needs_background": "light"
          }
        }
      ]
    },
    {
      "cell_type": "markdown",
      "metadata": {
        "id": "-b0opTUBwsYC"
      },
      "source": [
        "Here we see that (perhaps not too surprisingly, owning to the fact is it solving a linear rather than a nonlinear system), the backward pass typically converges a bit faster than the forward pass; however, this will not always be the case in practice, and indeed we will see below that after training, the backward pass frequently in fact converges to lower precision that the forward pass."
      ]
    },
    {
      "cell_type": "markdown",
      "metadata": {
        "id": "avQOlqo1zySU"
      },
      "source": [
        "## Training your DEQ\n",
        "\n",
        "Let's finally put all of this together to actually train a convolutional DEQ model on CIFAR10.  The following code will take a few hours to run on a single GPU, which may seem exessive for a model that achieve only slightly larger than 80% accuracy, though we should make the following caveats:\n",
        "1. We are effectively running a _fully convolutional_ network on CIFAR10 here, which maintains reasonbly large channels for the whole 32x32 image without down sampling.  Most reasonable networks do a large amount of downsampling before having any high-channel-count layers, and while we could also certainly do this for the DEQ, we wanted to emphasize the simplicty of a model that simply performs convolutions over the original input scale.\n",
        "2. The model is very small, with less than 100K parameters.  ResNets of this size achieve a comparable level of accuracy.\n",
        "3. We are using no data augmentation (though for a model this small, adding data augmentation only gives a relatively small benefit).\n",
        "\n",
        "Addressing both points above, and incorporating a cell $f$ the integrates information at multiple scales, one can achieve results competetive with the state of the art [[Bai et al., 2020](https://arxiv.org/abs/2006.08656)] (though, it should be emphasized, with runtimes that _are_ indeed still slower than comparable feedforward models with the same number of paraemters).\n",
        "\n",
        "The following model demonstrates the full DEQ model we consider, with a DEQ layer applied to the residual cell described above, a convolutional input injection, and a linear layer applied after average pooling of the DEQ output.  In pratice, it's also important to apply some form of normalization before and after the DEQ layer: here we simply use Batch Norm, which works well to \"standardize\" the size of the input as seen by the fixed point iteration."
      ]
    },
    {
      "cell_type": "code",
      "metadata": {
        "id": "QwwwQbJr8ePN"
      },
      "source": [
        "device = torch.device(\"cuda:0\" if torch.cuda.is_available() else \"cpu\")\n",
        "\n",
        "torch.manual_seed(0)\n",
        "chan = 48\n",
        "f = ResNetLayer(chan, 64, kernel_size=3)\n",
        "model = nn.Sequential(nn.Conv2d(3,chan, kernel_size=3, bias=True, padding=1),\n",
        "                      nn.BatchNorm2d(chan),\n",
        "                      DEQFixedPoint(f, anderson, tol=1e-2, max_iter=25, m=5),\n",
        "                      nn.BatchNorm2d(chan),\n",
        "                      nn.AvgPool2d(8,8),\n",
        "                      nn.Flatten(),\n",
        "                      nn.Linear(chan*4*4,10)).to(device)"
      ],
      "execution_count": 11,
      "outputs": []
    },
    {
      "cell_type": "markdown",
      "metadata": {
        "id": "v35q03fb8pz2"
      },
      "source": [
        "Now let's include the boilerplate dataloader and training code.  There's nothing particularly fancy here: we are no data augmentation, a cosine annealing learning rate schedule, and training with the Adam optimizer for 50 epochs (these element can all very likely be improved upon)."
      ]
    },
    {
      "cell_type": "code",
      "metadata": {
        "id": "nVmwrBWx9VdB",
        "outputId": "6f9222a5-46e5-4784-de91-020cd509cad7",
        "colab": {
          "base_uri": "https://localhost:8080/",
          "height": 156,
          "referenced_widgets": [
            "745f53193ea24e1fb81e4bc564c05694",
            "b213f47346fd4ba29adde36ef30c04fc",
            "72b629505dd546a48f2af7ba65689e79",
            "eaea6cdb1d5b4848bd8138be82f4b93a",
            "f1f3ed3e4ca64f4c8fa70c0e69b285c8",
            "05801fcb14c746d9a4e3eb18bf934bd4",
            "1ff047f5962246b286c9cba64681f42d",
            "36dc85e09f214655832d27f578d23560",
            "fb880ecebd8141b8b028d32db3eca842",
            "6a5e0a8d06454bfdabbfef4ab36e3ed3",
            "336f2005f9be443f8a0debe9dee966f1"
          ]
        }
      },
      "source": [
        "# CIFAR10 data loader\n",
        "from torchvision import datasets, transforms\n",
        "from torch.utils.data import DataLoader\n",
        "\n",
        "cifar10_train = datasets.CIFAR10(\".\", train=True, download=True, transform=transforms.ToTensor())\n",
        "cifar10_test = datasets.CIFAR10(\".\", train=False, download=True, transform=transforms.ToTensor())\n",
        "train_loader = DataLoader(cifar10_train, batch_size = 100, shuffle=True, num_workers=8)\n",
        "test_loader = DataLoader(cifar10_test, batch_size = 100, shuffle=False, num_workers=8)"
      ],
      "execution_count": 12,
      "outputs": [
        {
          "output_type": "stream",
          "name": "stdout",
          "text": [
            "Downloading https://www.cs.toronto.edu/~kriz/cifar-10-python.tar.gz to ./cifar-10-python.tar.gz\n"
          ]
        },
        {
          "output_type": "display_data",
          "data": {
            "text/plain": [
              "  0%|          | 0/170498071 [00:00<?, ?it/s]"
            ],
            "application/vnd.jupyter.widget-view+json": {
              "version_major": 2,
              "version_minor": 0,
              "model_id": "745f53193ea24e1fb81e4bc564c05694"
            }
          },
          "metadata": {}
        },
        {
          "output_type": "stream",
          "name": "stdout",
          "text": [
            "Extracting ./cifar-10-python.tar.gz to .\n",
            "Files already downloaded and verified\n"
          ]
        },
        {
          "output_type": "stream",
          "name": "stderr",
          "text": [
            "/usr/local/lib/python3.7/dist-packages/torch/utils/data/dataloader.py:560: UserWarning: This DataLoader will create 8 worker processes in total. Our suggested max number of worker in current system is 2, which is smaller than what this DataLoader is going to create. Please be aware that excessive worker creation might get DataLoader running slow or even freeze, lower the worker number to avoid potential slowness/freeze if necessary.\n",
            "  cpuset_checked))\n"
          ]
        }
      ]
    },
    {
      "cell_type": "code",
      "metadata": {
        "id": "bW0FpBrT9hVS"
      },
      "source": [
        "# standard training or evaluation loop\n",
        "def epoch(loader, model, opt=None, lr_scheduler=None):\n",
        "    total_loss, total_err = 0.,0.\n",
        "    model.eval() if opt is None else model.train()\n",
        "    for X,y in loader:\n",
        "        X,y = X.to(device), y.to(device)\n",
        "        yp = model(X)\n",
        "        loss = nn.CrossEntropyLoss()(yp,y)\n",
        "        if opt:\n",
        "            opt.zero_grad()\n",
        "            loss.backward()\n",
        "            opt.step()\n",
        "            lr_scheduler.step()\n",
        "                \n",
        "        total_err += (yp.max(dim=1)[1] != y).sum().item()\n",
        "        total_loss += loss.item() * X.shape[0]\n",
        "\n",
        "    return total_err / len(loader.dataset), total_loss / len(loader.dataset)"
      ],
      "execution_count": 13,
      "outputs": []
    },
    {
      "cell_type": "markdown",
      "metadata": {
        "id": "91dGWjS7AthH"
      },
      "source": [
        "The following code will now train a model to ~81% accuracy over 50 epochs.  Again, this code will take a few hours to run on a single GPU (and likely longer in Colab), but it hopefully gives an impression of the relative ease of building these medium-scale DEQ models."
      ]
    },
    {
      "cell_type": "code",
      "metadata": {
        "id": "fOFpcRz6gL-V",
        "outputId": "1d13c878-a3fe-47a2-efad-4b9b7e963d57",
        "colab": {
          "base_uri": "https://localhost:8080/"
        }
      },
      "source": [
        "import torch.optim as optim\n",
        "opt = optim.Adam(model.parameters(), lr=1e-3)\n",
        "print(\"# Parmeters: \", sum(a.numel() for a in model.parameters()))\n",
        "\n",
        "max_epochs = 50\n",
        "scheduler = optim.lr_scheduler.CosineAnnealingLR(opt, max_epochs*len(train_loader), eta_min=1e-6)\n",
        "\n",
        "for i in range(50):\n",
        "    print(epoch(train_loader, model, opt, scheduler))\n",
        "    print(epoch(test_loader, model)) "
      ],
      "execution_count": null,
      "outputs": [
        {
          "output_type": "stream",
          "name": "stdout",
          "text": [
            "# Parmeters:  64842\n"
          ]
        },
        {
          "output_type": "stream",
          "name": "stderr",
          "text": [
            "/usr/local/lib/python3.7/dist-packages/torch/utils/data/dataloader.py:560: UserWarning: This DataLoader will create 8 worker processes in total. Our suggested max number of worker in current system is 2, which is smaller than what this DataLoader is going to create. Please be aware that excessive worker creation might get DataLoader running slow or even freeze, lower the worker number to avoid potential slowness/freeze if necessary.\n",
            "  cpuset_checked))\n"
          ]
        },
        {
          "output_type": "stream",
          "name": "stdout",
          "text": [
            "(0.4501, 1.2674702651500702)\n",
            "(0.3571, 1.0114790272712708)\n",
            "(0.30414, 0.8737036627531052)\n",
            "(0.3003, 0.8557280349731445)\n",
            "(0.26034, 0.7487140709161758)\n",
            "(0.2717, 0.7894439023733139)\n",
            "(0.2339, 0.675908499121666)\n",
            "(0.2428, 0.7142932930588722)\n",
            "(0.21502, 0.6207390862703324)\n",
            "(0.2562, 0.7419076782464981)\n",
            "(0.20204, 0.579071974515915)\n",
            "(0.243, 0.6983418616652489)\n",
            "(0.18998, 0.5466646602153779)\n",
            "(0.2317, 0.672813461124897)\n",
            "(0.17918, 0.5197847720980644)\n",
            "(0.2272, 0.6634527841210365)\n",
            "(0.17158, 0.49474316799640655)\n",
            "(0.2213, 0.6405157232284546)\n",
            "(0.16206, 0.46802975022792814)\n",
            "(0.225, 0.6560679683089257)\n",
            "(0.15542, 0.44882389414310453)\n",
            "(0.2085, 0.6201595851778984)\n",
            "(0.14508, 0.422962179929018)\n",
            "(0.2369, 0.7059007978439331)\n",
            "(0.14116, 0.4085836258530617)\n",
            "(0.2101, 0.6336100253462792)\n",
            "(0.13642, 0.3907997935116291)\n",
            "(0.2127, 0.6314669808745385)\n",
            "(0.1346, 0.3832421867251396)\n",
            "(0.2037, 0.6172784173488617)\n",
            "(0.12786, 0.3668717278242111)\n",
            "(0.2276, 0.6906419438123703)\n",
            "(0.1248, 0.35669610857963563)\n",
            "(0.2059, 0.6300762009620666)\n",
            "(0.11908, 0.3428324719965458)\n",
            "(0.2017, 0.6249811732769013)\n",
            "(0.11568, 0.3294900344014168)\n",
            "(0.2026, 0.6394259676337242)\n",
            "(0.10932, 0.3132452992498875)\n",
            "(0.2106, 0.6569652110338211)\n",
            "(0.104, 0.3027317435145378)\n",
            "(0.1941, 0.60941336363554)\n",
            "(0.10328, 0.29310018810629845)\n",
            "(0.2, 0.6253778117895127)\n",
            "(0.09894, 0.28430228847265243)\n",
            "(0.1976, 0.6254885151982308)\n",
            "(0.09554, 0.27511528024077414)\n",
            "(0.2028, 0.6359047359228134)\n",
            "(0.093, 0.26487770250439646)\n",
            "(0.1997, 0.6239427945017815)\n",
            "(0.09074, 0.2621465302705765)\n",
            "(0.1993, 0.637659133374691)\n",
            "(0.08564, 0.24799245393276215)\n",
            "(0.1966, 0.6405159395933151)\n",
            "(0.08254, 0.23878027103841304)\n",
            "(0.1994, 0.6690083304047585)\n",
            "(0.08012, 0.23182565844058992)\n",
            "(0.2024, 0.696707870066166)\n",
            "(0.07634, 0.22214339496195315)\n",
            "(0.1992, 0.6693127527832985)\n",
            "(0.07444, 0.21571152921020983)\n",
            "(0.1978, 0.6579893979430199)\n",
            "(0.06966, 0.20815738183259963)\n",
            "(0.2013, 0.6642586487531662)\n",
            "(0.06824, 0.2032427817285061)\n",
            "(0.1983, 0.6702930152416229)\n",
            "(0.06638, 0.19576860509812832)\n",
            "(0.2015, 0.6871343693137169)\n",
            "(0.06448, 0.19234041970968246)\n",
            "(0.1947, 0.6681672435998917)\n",
            "(0.06388, 0.18828560923039914)\n",
            "(0.1967, 0.6688281086087227)\n",
            "(0.06022, 0.18085858461260795)\n",
            "(0.1949, 0.670623439848423)\n",
            "(0.06026, 0.17835305187106132)\n",
            "(0.2005, 0.6825972557067871)\n"
          ]
        }
      ]
    }
  ]
}